{
 "cells": [
  {
   "cell_type": "code",
   "execution_count": null,
   "id": "d709f00f",
   "metadata": {},
   "outputs": [],
   "source": [
    "#Student ID = 341"
   ]
  },
  {
   "cell_type": "code",
   "execution_count": 1,
   "id": "a5179030",
   "metadata": {},
   "outputs": [],
   "source": [
    "import numpy as np\n",
    "from sklearn.gaussian_process import GaussianProcessRegressor\n",
    "from sklearn.gaussian_process.kernels import Matern\n",
    "from scipy.optimize import minimize\n"
   ]
  },
  {
   "cell_type": "code",
   "execution_count": 46,
   "id": "4de0d6e1",
   "metadata": {
    "scrolled": true
   },
   "outputs": [
    {
     "data": {
      "text/plain": [
       "array([[ 3.19403889e-001,  7.62959374e-001,  1.32267704e-079],\n",
       "       [ 5.74329215e-001,  8.79898105e-001,  1.03307824e-046],\n",
       "       [ 7.31023631e-001,  7.32999876e-001,  7.71087511e-016],\n",
       "       [ 8.40353417e-001,  2.64731614e-001,  3.34177101e-124],\n",
       "       [ 6.50114060e-001,  6.81526352e-001, -3.60606264e-003],\n",
       "       [ 4.10437137e-001,  1.47554299e-001, -2.15924904e-054],\n",
       "       [ 3.12691157e-001,  7.87227779e-002, -2.08909327e-091],\n",
       "       [ 6.83418169e-001,  8.61057464e-001,  2.53500115e-040],\n",
       "       [ 8.25072518e-002,  4.03487506e-001,  3.60677119e-081],\n",
       "       [ 8.83889829e-001,  5.82253974e-001,  6.22985647e-048]])"
      ]
     },
     "execution_count": 46,
     "metadata": {},
     "output_type": "execute_result"
    }
   ],
   "source": [
    "result = np.column_stack((f1_X, f1_Y))\n",
    "result\n",
    "#8.40353417e-001,  2.64731614e-001,  3.34177101e-124\n",
    "#0.830000-0.290000"
   ]
  },
  {
   "cell_type": "code",
   "execution_count": 2,
   "id": "7a59ed53",
   "metadata": {},
   "outputs": [],
   "source": [
    "f1_X = np.load('initial_data/function_1/initial_inputs.npy')\n",
    "f1_Y = np.load('initial_data/function_1/initial_outputs.npy')"
   ]
  },
  {
   "cell_type": "code",
   "execution_count": 5,
   "id": "e27af091",
   "metadata": {},
   "outputs": [
    {
     "data": {
      "text/plain": [
       "array([[0.31940389, 0.76295937],\n",
       "       [0.57432921, 0.8798981 ],\n",
       "       [0.73102363, 0.73299988],\n",
       "       [0.84035342, 0.26473161],\n",
       "       [0.65011406, 0.68152635],\n",
       "       [0.41043714, 0.1475543 ],\n",
       "       [0.31269116, 0.07872278],\n",
       "       [0.68341817, 0.86105746],\n",
       "       [0.08250725, 0.40348751],\n",
       "       [0.88388983, 0.58225397],\n",
       "       [0.83      , 0.29      ],\n",
       "       [0.619903  , 0.245888  ],\n",
       "       [0.775021  , 0.265669  ],\n",
       "       [0.549448  , 0.600462  ]])"
      ]
     },
     "execution_count": 5,
     "metadata": {},
     "output_type": "execute_result"
    }
   ],
   "source": [
    "f1_X"
   ]
  },
  {
   "cell_type": "code",
   "execution_count": 4,
   "id": "304ccc07",
   "metadata": {},
   "outputs": [],
   "source": [
    "#Week 1\n",
    "f1_X = np.vstack((f1_X, np.array([0.83, 0.29])))\n",
    "f1_Y = np.append(f1_Y, -3.2860097425164E-109)\n",
    "#Week 2\n",
    "f1_X = np.vstack((f1_X, np.array([0.619903,0.245888])))\n",
    "f1_Y = np.append(f1_Y, -1.01694853412876E-50)\n",
    "#Week 3\n",
    "f1_X = np.vstack((f1_X, np.array([0.775021,0.265669])))\n",
    "f1_Y = np.append(f1_Y, -1.24778222636534E-106)\n",
    "#Week 4\n",
    "f1_X = np.vstack((f1_X, np.array([0.549448,0.600462])))\n",
    "f1_Y = np.append(f1_Y, -0.0000110332053603618)"
   ]
  },
  {
   "cell_type": "code",
   "execution_count": 32,
   "id": "316759d5",
   "metadata": {},
   "outputs": [
    {
     "name": "stdout",
     "output_type": "stream",
     "text": [
      "0.549448-0.600462\n"
     ]
    },
    {
     "name": "stderr",
     "output_type": "stream",
     "text": [
      "/home/mathiascanales/.local/lib/python3.9/site-packages/sklearn/gaussian_process/_gpr.py:659: ConvergenceWarning: lbfgs failed to converge (status=2):\n",
      "ABNORMAL_TERMINATION_IN_LNSRCH.\n",
      "\n",
      "Increase the number of iterations (max_iter) or scale the data as shown in:\n",
      "    https://scikit-learn.org/stable/modules/preprocessing.html\n",
      "  _check_optimize_result(\"lbfgs\", opt_res)\n"
     ]
    }
   ],
   "source": [
    "# Define the surrogate function using a Gaussian Process\n",
    "def surrogate_function(x, gp):\n",
    "    mu, _ = gp.predict(np.array([x]), return_std=True)\n",
    "    return -mu[0]\n",
    "\n",
    "x_bounds = [(0, 1), (0, 1)]\n",
    "\n",
    "kernel = Matern(length_scale=1.0, length_scale_bounds=(1e-2, 1e2))\n",
    "gp = GaussianProcessRegressor(kernel=kernel, n_restarts_optimizer=10)\n",
    "\n",
    "gp.fit(f1_X, f1_Y)\n",
    "result = minimize(lambda x: -surrogate_function(x, gp), x0=(1.0,1.0), bounds=x_bounds, method='L-BFGS-B')\n",
    "\n",
    "formatted_x = '-'.join([f'{x:.6f}' for x in result.x])\n",
    "print(formatted_x)\n"
   ]
  },
  {
   "cell_type": "code",
   "execution_count": 10,
   "id": "51a0136f",
   "metadata": {},
   "outputs": [
    {
     "name": "stdout",
     "output_type": "stream",
     "text": [
      "Predicted x for y ≈ 0: 0.775021-0.265669\n"
     ]
    }
   ],
   "source": [
    "# Create a Linear Regression model\n",
    "model = LinearRegression(fit_intercept = True, n_jobs = 14)\n",
    "\n",
    "# Train the model\n",
    "model.fit(f1_X, f1_Y)\n",
    "\n",
    "# Predict values of x for y ≈ 0\n",
    "target_y = 0\n",
    "predicted_x = (target_y - model.intercept_) / model.coef_\n",
    "\n",
    "formatted_x = '-'.join([f'{x:.6f}' for x in predicted_x])\n",
    "\n",
    "print(f\"Predicted x for y ≈ 0: {formatted_x}\")"
   ]
  },
  {
   "cell_type": "code",
   "execution_count": 9,
   "id": "7f1279ed",
   "metadata": {},
   "outputs": [
    {
     "name": "stdout",
     "output_type": "stream",
     "text": [
      "Best parameters found:  OrderedDict([('fit_intercept', True), ('n_jobs', 14)])\n",
      "Best score found:  -6.650252232000984e+92\n"
     ]
    },
    {
     "data": {
      "text/plain": [
       "<Axes: title={'center': 'Convergence plot'}, xlabel='Number of calls $n$', ylabel='$\\\\min f(x)$ after $n$ calls'>"
      ]
     },
     "execution_count": 9,
     "metadata": {},
     "output_type": "execute_result"
    },
    {
     "data": {
      "image/png": "[encoded data removed]",
      "text/plain": [
       "<Figure size 640x480 with 1 Axes>"
      ]
     },
     "metadata": {},
     "output_type": "display_data"
    }
   ],
   "source": [
    "regressor = LinearRegression()\n",
    "\n",
    "# Define the search space for Bayesian optimization\n",
    "param_space = {\n",
    "    'fit_intercept': [True, False],\n",
    "    'n_jobs': [1, 20],  \n",
    "}\n",
    "\n",
    "# Perform Bayesian optimization\n",
    "opt = BayesSearchCV(\n",
    "    regressor,\n",
    "    param_space,\n",
    "    n_iter=10,  # Number of optimization iterations\n",
    "    cv=5,  # Cross-validation folds\n",
    "    n_jobs=-1,\n",
    "    random_state=0,\n",
    "    n_points=5,  # Initial points to sample\n",
    ")\n",
    "\n",
    "opt.fit(f1_X, f1_Y)\n",
    "\n",
    "# Print the best hyperparameters and model performance\n",
    "print(\"Best parameters found: \", opt.best_params_)\n",
    "print(\"Best score found: \", opt.best_score_)\n"
   ]
  },
  {
   "cell_type": "code",
   "execution_count": 6,
   "id": "86caa1c8",
   "metadata": {},
   "outputs": [
    {
     "name": "stdout",
     "output_type": "stream",
     "text": [
      "Fitting 5 folds for each of 1 candidates, totalling 5 fits\n",
      "Fitting 5 folds for each of 1 candidates, totalling 5 fits\n",
      "Fitting 5 folds for each of 1 candidates, totalling 5 fits\n",
      "Fitting 5 folds for each of 1 candidates, totalling 5 fits\n",
      "Fitting 5 folds for each of 1 candidates, totalling 5 fits\n",
      "Fitting 5 folds for each of 1 candidates, totalling 5 fits\n",
      "Fitting 5 folds for each of 1 candidates, totalling 5 fits\n",
      "Fitting 5 folds for each of 1 candidates, totalling 5 fits\n",
      "Fitting 5 folds for each of 1 candidates, totalling 5 fits\n",
      "Fitting 5 folds for each of 1 candidates, totalling 5 fits\n",
      "Best Parameters: OrderedDict([('max_depth', 7), ('min_samples_leaf', 9), ('min_samples_split', 3), ('n_estimators', 14)])\n",
      "Best Predicted Value: 1.7005732072040707e+100\n"
     ]
    }
   ],
   "source": [
    "# Train a machine learning model (Random Forest regressor) as a surrogate\n",
    "surrogate_model = RandomForestRegressor(n_estimators=100, random_state=42)\n",
    "surrogate_model.fit(f1_X, f1_Y)\n",
    "\n",
    "space = {\n",
    "    'n_estimators': np.arange(10, 30),\n",
    "    'max_depth': np.arange(1, 10),\n",
    "    'min_samples_split': np.arange(2, 10),\n",
    "    'min_samples_leaf': np.arange(1, 10)\n",
    "}\n",
    "\n",
    "# Create the Bayesian optimization object\n",
    "opt = BayesSearchCV(\n",
    "    surrogate_model,\n",
    "    search_spaces=space,\n",
    "    n_iter=10,  # Adjust the number of iterations as needed\n",
    "    random_state=42,  # Set a random seed for reproducibility\n",
    "    n_jobs=-1,  # Use all available CPU cores for parallel optimization\n",
    "    #acquisition_optimizer='sampling',  # Use sampling-based acquisition optimization\n",
    "    #acquisition_function=\"EI\",  # Use Expected Improvement acquisition function\n",
    "    verbose=1  # Increase verbosity for more details during optimization\n",
    ")\n",
    "\n",
    "# Fit the optimizer\n",
    "opt.fit(f1_X,f1_Y)\n",
    "\n",
    "# Get the best-found parameters\n",
    "best_params = opt.best_params_\n",
    "best_predicted_value = -opt.best_score_\n",
    "\n",
    "print(\"Best Parameters:\", best_params)\n",
    "print(\"Best Predicted Value:\", best_predicted_value)\n"
   ]
  },
  {
   "cell_type": "code",
   "execution_count": 20,
   "id": "198459de",
   "metadata": {},
   "outputs": [
    {
     "name": "stdout",
     "output_type": "stream",
     "text": [
      "Maximum Prediction: [-3.60606264e-05]\n",
      "Corresponding Input Values: [[0.         0.77777778]]\n"
     ]
    }
   ],
   "source": [
    "# Create a Linear Regression model\n",
    "model = RandomForestRegressor()\n",
    "\n",
    "# Train the model\n",
    "model.fit(f1_X, f1_Y)\n",
    "\n",
    "param1_values = np.linspace(0, 1, 100)  # Adjust the range and step size for the first parameter\n",
    "param2_values = np.linspace(0, 1, 100)  # Adjust the range and step size for the second parameter\n",
    "\n",
    "# Initialize variables to keep track of the maximum prediction and corresponding input values\n",
    "max_prediction = -float(\"inf\")\n",
    "best_input_values = None\n",
    "\n",
    "# Loop through the candidate input values and make predictions\n",
    "for param1_value in param1_values:\n",
    "    for param2_value in param2_values:\n",
    "        # Create an input vector (assuming f1_X is a 2D array)\n",
    "        input_vector = np.array([param1_value, param2_value]).reshape(1, -1)\n",
    "        \n",
    "        # Make a prediction using the model\n",
    "        prediction = model.predict(input_vector)\n",
    "\n",
    "        # Check if this prediction is the maximum so far\n",
    "        if prediction > max_prediction:\n",
    "            max_prediction = prediction\n",
    "            best_input_values = input_vector\n",
    "\n",
    "# At this point, best_input_values contains the input values that result in the maximum prediction\n",
    "print(\"Maximum Prediction:\", max_prediction)\n",
    "print(\"Corresponding Input Values:\", best_input_values)"
   ]
  },
  {
   "cell_type": "code",
   "execution_count": 33,
   "id": "dc6345eb",
   "metadata": {},
   "outputs": [
    {
     "data": {
      "text/plain": [
       "array([[ 0.66579958,  0.12396913,  0.53899612],\n",
       "       [ 0.87779099,  0.7786275 ,  0.42058624],\n",
       "       [ 0.14269907,  0.34900513, -0.06562362],\n",
       "       [ 0.84527543,  0.71112027,  0.29399291],\n",
       "       [ 0.45464714,  0.29045518,  0.21496451],\n",
       "       [ 0.57771284,  0.77197318,  0.02310555],\n",
       "       [ 0.43816606,  0.68501826,  0.24461934],\n",
       "       [ 0.34174959,  0.02869772,  0.03874902],\n",
       "       [ 0.33864816,  0.21386725, -0.01385762],\n",
       "       [ 0.70263656,  0.9265642 ,  0.61120522]])"
      ]
     },
     "execution_count": 33,
     "metadata": {},
     "output_type": "execute_result"
    }
   ],
   "source": [
    "f2_X = np.load('initial_data/function_2/initial_inputs.npy')\n",
    "f2_Y = np.load('initial_data/function_2/initial_outputs.npy')\n",
    "result = np.column_stack((f2_X, f2_Y))\n",
    "result\n",
    "#0.710000-0.990000"
   ]
  },
  {
   "cell_type": "code",
   "execution_count": 34,
   "id": "febd819e",
   "metadata": {},
   "outputs": [],
   "source": [
    "#Week 1\n",
    "f2_X = np.vstack((f2_X, np.array([0.71, 0.99])))\n",
    "f2_Y = np.append(f2_Y, 0.584747960355965)\n",
    "#Week 2\n",
    "f2_X = np.vstack((f2_X, np.array([0.87779,0.99])))\n",
    "f2_Y = np.append(f2_Y, 0.200034882833225)\n",
    "#Week 3\n",
    "f2_X = np.vstack((f2_X, np.array([0.877791,0.99])))\n",
    "f2_Y = np.append(f2_Y, -0.065322598998729)\n",
    "#Week 4\n",
    "f2_X = np.vstack((f2_X, np.array([0.883564,0.99])))\n",
    "f2_Y = np.append(f2_Y, 0.08297567384)"
   ]
  },
  {
   "cell_type": "code",
   "execution_count": 35,
   "id": "786f9a1d",
   "metadata": {},
   "outputs": [
    {
     "name": "stdout",
     "output_type": "stream",
     "text": [
      "0.883564-0.990000\n"
     ]
    },
    {
     "name": "stderr",
     "output_type": "stream",
     "text": [
      "/home/mathiascanales/.local/lib/python3.9/site-packages/sklearn/gaussian_process/kernels.py:419: ConvergenceWarning: The optimal value found for dimension 0 of parameter length_scale is close to the specified lower bound 0.01. Decreasing the bound and calling fit again may find a better value.\n",
      "  warnings.warn(\n"
     ]
    }
   ],
   "source": [
    "# Define the surrogate function using a Gaussian Process\n",
    "def surrogate_function(x, gp):\n",
    "    mu, _ = gp.predict(np.array([x]), return_std=True)\n",
    "    return -mu[0]\n",
    "\n",
    "x_bounds = [(0, 1), (0, 1)]\n",
    "\n",
    "kernel = Matern(length_scale=1.0, length_scale_bounds=(1e-2, 1e2))\n",
    "gp = GaussianProcessRegressor(kernel=kernel, n_restarts_optimizer=10)\n",
    "\n",
    "gp.fit(f2_X, f2_Y)\n",
    "result = minimize(lambda x: -surrogate_function(x, gp), x0=(1.0,1.0), bounds=x_bounds, method='L-BFGS-B')\n",
    "\n",
    "formatted_x = '-'.join([f'{x:.6f}' for x in result.x])\n",
    "print(formatted_x)"
   ]
  },
  {
   "cell_type": "code",
   "execution_count": 19,
   "id": "ffa80e12",
   "metadata": {},
   "outputs": [],
   "source": [
    "regressor = LinearRegression()\n",
    "\n",
    "# Define the search space for Bayesian optimization\n",
    "param_space = {\n",
    "    'fit_intercept': [True, False],\n",
    "    'n_jobs': [1, 20],  \n",
    "}\n",
    "\n",
    "# Perform Bayesian optimization\n",
    "opt = BayesSearchCV(\n",
    "    regressor,\n",
    "    param_space,\n",
    "    n_iter=10,  # Number of optimization iterations\n",
    "    cv=5,  # Cross-validation folds\n",
    "    n_jobs=-1,\n",
    "    random_state=0,\n",
    "    n_points=5,  # Initial points to sample\n",
    ")\n",
    "\n",
    "opt.fit(f2_X, f2_Y)\n",
    "\n",
    "best_model = opt.best_estimator_\n",
    "\n",
    "def objective_function(x):\n",
    "    x1, x2 = x\n",
    "    x = np.array([[x1, x2]])  # Reshape x into a 2D array\n",
    "    predicted_Y = best_model.predict(x)  # Predict Y for the given x\n",
    "    return -predicted_Y\n",
    "\n",
    "# Optimize the objective function to find x that maximizes Y\n",
    "result = minimize(objective_function, x0=(0.0, 0.0), bounds=[(0.0, 1.0), (0.0, 1.0)])  # Adjust bounds as needed\n",
    "\n",
    "# The result will contain the optimized x value that maximizes Y\n",
    "optimal_x = result.x"
   ]
  },
  {
   "cell_type": "code",
   "execution_count": 20,
   "id": "99c103b9",
   "metadata": {},
   "outputs": [
    {
     "data": {
      "text/plain": [
       "array([1., 1.])"
      ]
     },
     "execution_count": 20,
     "metadata": {},
     "output_type": "execute_result"
    }
   ],
   "source": [
    "optimal_x"
   ]
  },
  {
   "cell_type": "code",
   "execution_count": 22,
   "id": "1e68cf9c",
   "metadata": {},
   "outputs": [
    {
     "name": "stdout",
     "output_type": "stream",
     "text": [
      "Predicted x for y ≈ 0: 0.877791-0.990000\n"
     ]
    }
   ],
   "source": [
    "from scipy.stats import linregress\n",
    "\n",
    "# Perform linear regression for each feature\n",
    "n_features = f2_X.shape[1]\n",
    "slopes = []\n",
    "intercepts = []\n",
    "\n",
    "for feature_index in range(n_features):\n",
    "    slope, intercept, _, _, _ = linregress(f2_X[:, feature_index], f2_Y)\n",
    "    slopes.append(slope)\n",
    "    intercepts.append(intercept)\n",
    "\n",
    "# Calculate maximum y within the x range\n",
    "x_maximizing_y = []\n",
    "\n",
    "for feature_index in range(n_features):\n",
    "    x_min = min(f2_X[:, feature_index])\n",
    "    x_max = max(f2_X[:, feature_index])\n",
    "    y_max = max(intercepts[feature_index] + slopes[feature_index] * x_min, intercepts[feature_index] + slopes[feature_index] * x_max)\n",
    "    \n",
    "    # Calculate corresponding x for the maximum y\n",
    "    x_maximizing_y.append((y_max - intercepts[feature_index]) / slopes[feature_index])\n",
    "x_maximizing_y\n",
    "formatted_x = '-'.join([f'{x:.6f}' for x in x_maximizing_y])\n",
    "\n",
    "print(f\"Predicted x for y ≈ 0: {formatted_x}\")"
   ]
  },
  {
   "cell_type": "code",
   "execution_count": 36,
   "id": "98702c96",
   "metadata": {},
   "outputs": [
    {
     "data": {
      "text/plain": [
       "-0.31"
      ]
     },
     "execution_count": 36,
     "metadata": {},
     "output_type": "execute_result"
    }
   ],
   "source": [
    "f3_X = np.load('initial_data/function_3/initial_inputs.npy')\n",
    "f3_Y = np.load('initial_data/function_3/initial_outputs.npy')\n",
    "result = np.column_stack((f3_X, f3_Y))\n",
    "result\n",
    "0.49258141,  0.61159319,  0.34017639\n",
    "0.60009728,  0.72513573,  0.06608864\n",
    "0.540000-0.650000-0.200000"
   ]
  },
  {
   "cell_type": "code",
   "execution_count": 37,
   "id": "a1f012b0",
   "metadata": {},
   "outputs": [],
   "source": [
    "#Week 1\n",
    "f3_X = np.vstack((f3_X, np.array([0.54,0.65,0.2])))\n",
    "f3_Y = np.append(f3_Y, -0.1309050532)\n",
    "#Week 2\n",
    "f3_X = np.vstack((f3_X, np.array([0.718668,0.999945,0.272151])))\n",
    "f3_Y = np.append(f3_Y, -0.1413686626)\n",
    "#Week 3\n",
    "f3_X = np.vstack((f3_X, np.array([0.596189,0.614615,0.214115])))\n",
    "f3_Y = np.append(f3_Y, -0.11486006842883)\n",
    "#Week 4\n",
    "f3_X = np.vstack((f3_X, np.array([0.124154,0.849855,0.738203])))\n",
    "f3_Y = np.append(f3_Y, -0.142476683810238)"
   ]
  },
  {
   "cell_type": "code",
   "execution_count": 46,
   "id": "932941bd",
   "metadata": {},
   "outputs": [
    {
     "name": "stdout",
     "output_type": "stream",
     "text": [
      "-0.124154-0.849855-1.738203\n"
     ]
    },
    {
     "name": "stderr",
     "output_type": "stream",
     "text": [
      "/home/mathiascanales/.local/lib/python3.9/site-packages/scipy/optimize/_minimize.py:580: RuntimeWarning: Method BFGS cannot handle bounds.\n",
      "  warn('Method %s cannot handle bounds.' % method,\n"
     ]
    }
   ],
   "source": [
    "# Define the surrogate function using a Gaussian Process\n",
    "def surrogate_function(x, gp):\n",
    "    mu, _ = gp.predict(np.array([x]), return_std=True)\n",
    "    return -mu[0]\n",
    "\n",
    "x_bounds = [(0, 1), (0, 1), (0, 1)]\n",
    "\n",
    "kernel = Matern(length_scale=1.0, length_scale_bounds=(1e-2, 1e2))\n",
    "gp = GaussianProcessRegressor(kernel=kernel, n_restarts_optimizer=20)\n",
    "\n",
    "gp.fit(f3_X, f3_Y)\n",
    "result = minimize(lambda x: -surrogate_function(x, gp), x0=(1.0,0.0,1.0), bounds=x_bounds, method='BFGS')\n",
    "\n",
    "formatted_x = '-'.join([f'{x:.6f}' for x in result.x])\n",
    "print(formatted_x)"
   ]
  },
  {
   "cell_type": "code",
   "execution_count": 27,
   "id": "a51cdc19",
   "metadata": {},
   "outputs": [
    {
     "name": "stdout",
     "output_type": "stream",
     "text": [
      "Best parameters found:  OrderedDict([('fit_intercept', False), ('n_jobs', 1)])\n",
      "Best score found:  -2.289614982211238\n"
     ]
    }
   ],
   "source": [
    "regressor = LinearRegression()\n",
    "\n",
    "# Define the search space for Bayesian optimization\n",
    "param_space = {\n",
    "    'fit_intercept': [True, False],\n",
    "    'n_jobs': [1, 20],  \n",
    "}\n",
    "\n",
    "# Perform Bayesian optimization\n",
    "opt = BayesSearchCV(\n",
    "    regressor,\n",
    "    param_space,\n",
    "    n_iter=10,  # Number of optimization iterations\n",
    "    cv=5,  # Cross-validation folds\n",
    "    n_jobs=-1,\n",
    "    random_state=0,\n",
    "    n_points=5,  # Initial points to sample\n",
    ")\n",
    "\n",
    "opt.fit(f3_X, f3_Y)\n",
    "\n",
    "# Print the best hyperparameters and model performance\n",
    "print(\"Best parameters found: \", opt.best_params_)\n",
    "print(\"Best score found: \", opt.best_score_)\n"
   ]
  },
  {
   "cell_type": "code",
   "execution_count": 29,
   "id": "1b1943bd",
   "metadata": {},
   "outputs": [
    {
     "name": "stdout",
     "output_type": "stream",
     "text": [
      "Predicted x for y ≈ 0: 0.596189--0.614615--0.214115\n"
     ]
    }
   ],
   "source": [
    "# Create a Linear Regression model\n",
    "model = LinearRegression()\n",
    "\n",
    "# Train the model\n",
    "model.fit(f3_X, f3_Y)\n",
    "\n",
    "# Predict values of x for y ≈ 0\n",
    "target_y = 0\n",
    "predicted_x = (target_y - model.intercept_) / model.coef_\n",
    "\n",
    "formatted_x = '-'.join([f'{x:.6f}' for x in predicted_x])\n",
    "\n",
    "print(f\"Predicted x for y ≈ 0: {formatted_x}\")"
   ]
  },
  {
   "cell_type": "code",
   "execution_count": 47,
   "id": "d9919e29",
   "metadata": {},
   "outputs": [
    {
     "data": {
      "text/plain": [
       "array([[ 8.96981054e-01,  7.25627970e-01,  1.75404309e-01,\n",
       "         7.01694369e-01, -2.21082878e+01],\n",
       "       [ 8.89356396e-01,  4.99587855e-01,  5.39268858e-01,\n",
       "         5.08783439e-01, -1.46013966e+01],\n",
       "       [ 2.50946243e-01,  3.36931305e-02,  1.45380025e-01,\n",
       "         4.94932421e-01, -1.16999325e+01],\n",
       "       [ 3.46962061e-01,  6.25040024e-03,  7.60563606e-01,\n",
       "         6.13023557e-01, -1.60537651e+01],\n",
       "       [ 1.24871181e-01,  1.29770193e-01,  3.84400483e-01,\n",
       "         2.87076101e-01, -1.00696334e+01],\n",
       "       [ 8.01302707e-01,  5.00231094e-01,  7.06644560e-01,\n",
       "         1.95102841e-01, -1.54870825e+01],\n",
       "       [ 2.47708262e-01,  6.04454273e-02,  4.21863451e-02,\n",
       "         4.41324251e-01, -1.26816850e+01],\n",
       "       [ 7.46702242e-01,  7.57091504e-01,  3.69353060e-01,\n",
       "         2.06566281e-01, -1.60263998e+01],\n",
       "       [ 4.00665027e-01,  7.25742511e-02,  8.86768254e-01,\n",
       "         2.43842290e-01, -1.70492346e+01],\n",
       "       [ 6.26070596e-01,  5.86751259e-01,  4.38805782e-01,\n",
       "         7.78857694e-01, -1.27417660e+01],\n",
       "       [ 9.57135293e-01,  5.97644383e-01,  7.66113852e-01,\n",
       "         7.76209905e-01, -2.73163964e+01],\n",
       "       [ 7.32812426e-01,  1.45249979e-01,  4.76812718e-01,\n",
       "         1.33365734e-01, -1.35276489e+01],\n",
       "       [ 6.55115479e-01,  7.23918269e-02,  6.87151746e-01,\n",
       "         8.15165642e-02, -1.66791152e+01],\n",
       "       [ 2.19734429e-01,  8.32031335e-01,  4.82864162e-01,\n",
       "         8.25692306e-02, -1.65071586e+01],\n",
       "       [ 4.88594190e-01,  2.11965096e-01,  9.39177907e-01,\n",
       "         3.76191726e-01, -1.78179993e+01],\n",
       "       [ 1.67130486e-01,  8.76554558e-01,  2.17239545e-01,\n",
       "         9.59800985e-01, -2.65618208e+01],\n",
       "       [ 2.16911188e-01,  1.66085829e-01,  2.41372256e-01,\n",
       "         7.70062476e-01, -1.27583242e+01],\n",
       "       [ 3.87487837e-01,  8.04532258e-01,  7.51795483e-01,\n",
       "         7.23827439e-01, -1.94415576e+01],\n",
       "       [ 9.85621893e-01,  6.66932679e-01,  1.56783283e-01,\n",
       "         8.56534801e-01, -2.89032737e+01],\n",
       "       [ 3.78248285e-02,  6.64853346e-01,  1.61982175e-01,\n",
       "         2.53923780e-01, -1.37027469e+01],\n",
       "       [ 6.83486385e-01,  9.02770103e-01,  3.35419826e-01,\n",
       "         9.99482561e-01, -2.94270914e+01],\n",
       "       [ 1.70347305e-01,  7.56959083e-01,  2.76520486e-01,\n",
       "         5.31231498e-01, -1.15657420e+01],\n",
       "       [ 8.59656919e-01,  9.19592322e-01,  2.06138728e-01,\n",
       "         9.77968310e-02, -2.68577864e+01],\n",
       "       [ 2.82138368e-01,  5.05986912e-01,  5.30530843e-01,\n",
       "         9.63016230e-02, -7.96677535e+00],\n",
       "       [ 3.26075785e-01,  4.72366904e-01,  4.53191996e-01,\n",
       "         1.05887338e-01, -6.70208925e+00],\n",
       "       [ 9.48389362e-01,  8.94513008e-01,  8.51637817e-01,\n",
       "         5.52196286e-01, -3.26256602e+01],\n",
       "       [ 6.64955390e-01,  4.65662767e-02,  1.16777469e-01,\n",
       "         7.93717780e-01, -1.99894979e+01],\n",
       "       [ 5.77765614e-01,  4.28771742e-01,  4.25825867e-01,\n",
       "         2.49007415e-01, -4.02554228e+00],\n",
       "       [ 7.38613014e-01,  4.82102634e-01,  7.09366443e-01,\n",
       "         5.03970014e-01, -1.31227823e+01],\n",
       "       [ 8.54810797e-01,  4.93964620e-01,  7.35309975e-01,\n",
       "         8.08092013e-01, -2.31394284e+01]])"
      ]
     },
     "execution_count": 47,
     "metadata": {},
     "output_type": "execute_result"
    }
   ],
   "source": [
    "f4_X = np.load('initial_data/function_4/initial_inputs.npy')\n",
    "f4_Y = np.load('initial_data/function_4/initial_outputs.npy')\n",
    "result = np.column_stack((f4_X, f4_Y))\n",
    "result\n",
    "#1.24871181e-01,  1.29770193e-01,  3.84400483e-01 , 2.87076101e-01, -1.00696334e+01\n",
    "# 2.47708262e-01,  6.04454273e-02,  4.21863451e-02, 4.41324251e-01, -1.26816850e+01\n",
    "# 0.120000-0.1010000-0.360000-0.2400000"
   ]
  },
  {
   "cell_type": "code",
   "execution_count": 48,
   "id": "2c74464c",
   "metadata": {},
   "outputs": [],
   "source": [
    "#Week 1\n",
    "f4_X = np.vstack((f4_X, np.array([0.12,0.101,0.36,0.24])))\n",
    "f4_Y = np.append(f4_Y, -10.2679334484568)\n",
    "#Week 2\n",
    "f4_X = np.vstack((f4_X, np.array([0.401067,0.465459,0.990034,0.337921])))\n",
    "f4_Y = np.append(f4_Y, -17.45206644)\n",
    "#Week 3\n",
    "f4_X = np.vstack((f4_X, np.array([0.398924,0.448872,0.912348,0.328706])))\n",
    "f4_Y = np.append(f4_Y, -14.27743893)\n",
    "#Week 4\n",
    "f4_X = np.vstack((f4_X, np.array([0.961534,0.902131,0.835173,0.600658])))\n",
    "f4_Y = np.append(f4_Y, -33.189198584856)"
   ]
  },
  {
   "cell_type": "code",
   "execution_count": 49,
   "id": "7949833e",
   "metadata": {},
   "outputs": [
    {
     "name": "stdout",
     "output_type": "stream",
     "text": [
      "0.961534-0.902131-0.835173-0.600658\n"
     ]
    },
    {
     "name": "stderr",
     "output_type": "stream",
     "text": [
      "/home/mathiascanales/.local/lib/python3.9/site-packages/scipy/optimize/_minimize.py:580: RuntimeWarning: Method BFGS cannot handle bounds.\n",
      "  warn('Method %s cannot handle bounds.' % method,\n"
     ]
    }
   ],
   "source": [
    "# Define the surrogate function using a Gaussian Process\n",
    "def surrogate_function(x, gp):\n",
    "    mu, _ = gp.predict(np.array([x]), return_std=True)\n",
    "    return -mu[0]\n",
    "\n",
    "x_bounds = [(0, 1), (0, 1), (0, 1), (0,1)]\n",
    "\n",
    "kernel = Matern(length_scale=1.0, length_scale_bounds=(1e-2, 1e2))\n",
    "gp = GaussianProcessRegressor(kernel=kernel, n_restarts_optimizer=20)\n",
    "\n",
    "gp.fit(f4_X, f4_Y)\n",
    "result = minimize(lambda x: -surrogate_function(x, gp), x0=(1.0,1.0,1.0,1.0), bounds=x_bounds, method='BFGS')\n",
    "\n",
    "formatted_x = '-'.join([f'{x:.6f}' for x in result.x])\n",
    "print(formatted_x)"
   ]
  },
  {
   "cell_type": "code",
   "execution_count": 32,
   "id": "58143c76",
   "metadata": {},
   "outputs": [
    {
     "name": "stdout",
     "output_type": "stream",
     "text": [
      "Best parameters found:  OrderedDict([('fit_intercept', True), ('n_jobs', 14)])\n",
      "Best score found:  0.09810334907778417\n"
     ]
    }
   ],
   "source": [
    "regressor = LinearRegression()\n",
    "\n",
    "# Define the search space for Bayesian optimization\n",
    "param_space = {\n",
    "    'fit_intercept': [True, False],\n",
    "    'n_jobs': [1, 20],  \n",
    "}\n",
    "\n",
    "# Perform Bayesian optimization\n",
    "opt = BayesSearchCV(\n",
    "    regressor,\n",
    "    param_space,\n",
    "    n_iter=10,  # Number of optimization iterations\n",
    "    cv=5,  # Cross-validation folds\n",
    "    n_jobs=-1,\n",
    "    random_state=0,\n",
    "    n_points=5,  # Initial points to sample\n",
    ")\n",
    "\n",
    "opt.fit(f4_X, f4_Y)\n",
    "\n",
    "# Print the best hyperparameters and model performance\n",
    "print(\"Best parameters found: \", opt.best_params_)\n",
    "print(\"Best score found: \", opt.best_score_)"
   ]
  },
  {
   "cell_type": "code",
   "execution_count": 33,
   "id": "f27ca92b",
   "metadata": {},
   "outputs": [
    {
     "name": "stdout",
     "output_type": "stream",
     "text": [
      "Predicted x for y ≈ 0: -0.398924--0.448872--1.234869--0.328706\n"
     ]
    }
   ],
   "source": [
    "# Create a Linear Regression model\n",
    "model = LinearRegression(fit_intercept = True, n_jobs = 14)\n",
    "\n",
    "# Train the model\n",
    "model.fit(f4_X, f4_Y)\n",
    "\n",
    "# Predict values of x for y ≈ 0\n",
    "target_y = 0\n",
    "predicted_x = (target_y - model.intercept_) / model.coef_\n",
    "\n",
    "formatted_x = '-'.join([f'{x:.6f}' for x in predicted_x])\n",
    "\n",
    "print(f\"Predicted x for y ≈ 0: {formatted_x}\")"
   ]
  },
  {
   "cell_type": "code",
   "execution_count": 50,
   "id": "6096f226",
   "metadata": {},
   "outputs": [
    {
     "data": {
      "text/plain": [
       "array([[1.91447084e-01, 3.81933714e-02, 6.07417811e-01, 4.14584137e-01,\n",
       "        6.44434399e+01],\n",
       "       [7.58652949e-01, 5.36517738e-01, 6.56000382e-01, 3.60341553e-01,\n",
       "        1.83013796e+01],\n",
       "       [4.38349873e-01, 8.04339705e-01, 2.10245266e-01, 1.51294816e-01,\n",
       "        1.12939795e-01],\n",
       "       [7.06050834e-01, 5.34191961e-01, 2.64243345e-01, 4.82087549e-01,\n",
       "        4.21089813e+00],\n",
       "       [8.36477993e-01, 1.93609647e-01, 6.63892697e-01, 7.85648883e-01,\n",
       "        2.58370525e+02],\n",
       "       [6.83432250e-01, 1.18662642e-01, 8.29045910e-01, 5.67576606e-01,\n",
       "        7.84343889e+01],\n",
       "       [5.53621480e-01, 6.67349979e-01, 3.23805819e-01, 8.14869754e-01,\n",
       "        5.75715369e+01],\n",
       "       [3.52356269e-01, 3.22241532e-01, 1.16979368e-01, 4.73112522e-01,\n",
       "        1.09571876e+02],\n",
       "       [1.53785706e-01, 7.29381690e-01, 4.22598437e-01, 4.43074166e-01,\n",
       "        8.84799176e+00],\n",
       "       [4.63442267e-01, 6.30024510e-01, 1.07906456e-01, 9.57643899e-01,\n",
       "        2.33223610e+02],\n",
       "       [6.77491148e-01, 3.58509507e-01, 4.79592224e-01, 7.28804811e-02,\n",
       "        2.44230883e+01],\n",
       "       [5.83973412e-01, 1.47242646e-01, 3.48097462e-01, 4.28614651e-01,\n",
       "        6.44201468e+01],\n",
       "       [3.06888719e-01, 3.16878127e-01, 6.22634481e-01, 9.53990581e-02,\n",
       "        6.34767158e+01],\n",
       "       [5.11141775e-01, 8.17956997e-01, 7.28710418e-01, 1.12353623e-01,\n",
       "        7.97291299e+01],\n",
       "       [4.38933376e-01, 7.74091762e-01, 3.78167086e-01, 9.33696207e-01,\n",
       "        3.55806818e+02],\n",
       "       [2.24189023e-01, 8.46480490e-01, 8.79484180e-01, 8.78515684e-01,\n",
       "        1.08885962e+03],\n",
       "       [7.25261723e-01, 4.79870486e-01, 8.89468426e-02, 7.59760220e-01,\n",
       "        2.88667516e+01],\n",
       "       [3.55481610e-01, 6.39619367e-01, 4.17617679e-01, 1.22603840e-01,\n",
       "        4.51815703e+01],\n",
       "       [1.19879226e-01, 8.62540306e-01, 6.43331326e-01, 8.49803829e-01,\n",
       "        4.31612757e+02],\n",
       "       [1.26884670e-01, 1.53429621e-01, 7.70162188e-01, 1.90518105e-01,\n",
       "        9.97233189e+00]])"
      ]
     },
     "execution_count": 50,
     "metadata": {},
     "output_type": "execute_result"
    }
   ],
   "source": [
    "f5_X = np.load('initial_data/function_5/initial_inputs.npy')\n",
    "f5_Y = np.load('initial_data/function_5/initial_outputs.npy')\n",
    "result = np.column_stack((f5_X, f5_Y))\n",
    "result\n",
    "#2.24189023e-01, 8.46480490e-01, 8.79484180e-01, 8.78515684e-01,1.08885962e+03\n",
    "#0.230000-0.900000-0.800000-0.900000"
   ]
  },
  {
   "cell_type": "code",
   "execution_count": 51,
   "id": "3971b146",
   "metadata": {},
   "outputs": [],
   "source": [
    "#Week 1\n",
    "f5_X = np.vstack((f5_X, np.array([0.23,0.9,0.8,0.9])))\n",
    "f5_Y = np.append(f5_Y, 1113.607380032)\n",
    "#Week 2\n",
    "f5_X = np.vstack((f5_X, np.array([0.119879,0.9,0.879484,0.957644])))\n",
    "f5_Y = np.append(f5_Y, 1854.055026)\n",
    "#Week 3\n",
    "#Same input\n",
    "#Week 4\n",
    "f5_X = np.vstack((f5_X, np.array([0.781781,0.621022,0.901272,0.827289])))\n",
    "f5_Y = np.append(f5_Y, 1000.424187)"
   ]
  },
  {
   "cell_type": "code",
   "execution_count": 55,
   "id": "e2644b54",
   "metadata": {},
   "outputs": [
    {
     "name": "stdout",
     "output_type": "stream",
     "text": [
      "-0.781781--0.621022--0.901272--0.827289\n"
     ]
    },
    {
     "name": "stderr",
     "output_type": "stream",
     "text": [
      "/home/mathiascanales/.local/lib/python3.9/site-packages/scipy/optimize/_minimize.py:580: RuntimeWarning: Method BFGS cannot handle bounds.\n",
      "  warn('Method %s cannot handle bounds.' % method,\n"
     ]
    }
   ],
   "source": [
    "# Define the surrogate function using a Gaussian Process\n",
    "def surrogate_function(x, gp):\n",
    "    mu, _ = gp.predict(np.array([x]), return_std=True)\n",
    "    return -mu[0]\n",
    "\n",
    "x_bounds = [(0, 1), (0, 1), (0, 1), (0,1)]\n",
    "\n",
    "kernel = Matern(length_scale=1.0, length_scale_bounds=(1e-2, 1e2))\n",
    "gp = GaussianProcessRegressor(kernel=kernel, n_restarts_optimizer=20)\n",
    "\n",
    "gp.fit(f5_X, f5_Y)\n",
    "result = minimize(lambda x: -surrogate_function(x, gp), x0=(0.0,0.0,0.0,0.0), bounds=x_bounds, method='BFGS')\n",
    "\n",
    "formatted_x = '-'.join([f'{x:.6f}' for x in result.x])\n",
    "print(formatted_x)"
   ]
  },
  {
   "cell_type": "code",
   "execution_count": 36,
   "id": "3c87d812",
   "metadata": {},
   "outputs": [
    {
     "name": "stdout",
     "output_type": "stream",
     "text": [
      "Predicted x for y ≈ 0: 0.119879-0.900000-0.879484-0.957644\n"
     ]
    }
   ],
   "source": [
    "# Perform linear regression for each feature\n",
    "n_features = f5_X.shape[1]\n",
    "slopes = []\n",
    "intercepts = []\n",
    "\n",
    "for feature_index in range(n_features):\n",
    "    slope, intercept, _, _, _ = linregress(f5_X[:, feature_index], f5_Y)\n",
    "    slopes.append(slope)\n",
    "    intercepts.append(intercept)\n",
    "\n",
    "# Calculate maximum y within the x range\n",
    "x_maximizing_y = []\n",
    "\n",
    "for feature_index in range(n_features):\n",
    "    x_min = min(f5_X[:, feature_index])\n",
    "    x_max = max(f5_X[:, feature_index])\n",
    "    y_max = max(intercepts[feature_index] + slopes[feature_index] * x_min, intercepts[feature_index] + slopes[feature_index] * x_max)\n",
    "    \n",
    "    # Calculate corresponding x for the maximum y\n",
    "    x_maximizing_y.append((y_max - intercepts[feature_index]) / slopes[feature_index])\n",
    "formatted_x = '-'.join([f'{x:.6f}' for x in x_maximizing_y])\n",
    "\n",
    "print(f\"Predicted x for y ≈ 0: {formatted_x}\")"
   ]
  },
  {
   "cell_type": "code",
   "execution_count": 56,
   "id": "0e43e65d",
   "metadata": {},
   "outputs": [
    {
     "data": {
      "text/plain": [
       "array([[ 0.7281861 ,  0.15469257,  0.73255167,  0.69399651,  0.05640131,\n",
       "        -0.71426495],\n",
       "       [ 0.24238435,  0.84409997,  0.5778091 ,  0.67902128,  0.50195289,\n",
       "        -1.20995524],\n",
       "       [ 0.72952261,  0.7481062 ,  0.67977464,  0.35655228,  0.67105368,\n",
       "        -1.67219994],\n",
       "       [ 0.77062024,  0.11440374,  0.04677993,  0.64832428,  0.27354905,\n",
       "        -1.53605771],\n",
       "       [ 0.6188123 ,  0.33180214,  0.18728787,  0.75623847,  0.3288348 ,\n",
       "        -0.82923655],\n",
       "       [ 0.78495809,  0.91068235,  0.7081201 ,  0.95922543,  0.0049115 ,\n",
       "        -1.24704893],\n",
       "       [ 0.14511079,  0.8966846 ,  0.89632223,  0.72627154,  0.23627199,\n",
       "        -1.23378638],\n",
       "       [ 0.94506907,  0.28845905,  0.97880576,  0.96165559,  0.59801594,\n",
       "        -1.69434344],\n",
       "       [ 0.12572016,  0.86272469,  0.02854433,  0.24660527,  0.75120624,\n",
       "        -2.57116963],\n",
       "       [ 0.75759436,  0.35583141,  0.0165229 ,  0.4342072 ,  0.11243304,\n",
       "        -1.30911635],\n",
       "       [ 0.5367969 ,  0.30878091,  0.41187929,  0.38822518,  0.5225283 ,\n",
       "        -1.14478485],\n",
       "       [ 0.95773967,  0.23566857,  0.09914585,  0.15680593,  0.07131737,\n",
       "        -1.91267714],\n",
       "       [ 0.6293079 ,  0.80348368,  0.81140844,  0.04561319,  0.11062446,\n",
       "        -1.62283895],\n",
       "       [ 0.02173531,  0.42808424,  0.83593944,  0.48948866,  0.51108173,\n",
       "        -1.35668211],\n",
       "       [ 0.43934426,  0.69892383,  0.42682022,  0.10947609,  0.87788847,\n",
       "        -2.0184254 ],\n",
       "       [ 0.25890557,  0.79367771,  0.6421139 ,  0.19667346,  0.59310318,\n",
       "        -1.70255784],\n",
       "       [ 0.43216593,  0.71561781,  0.3418191 ,  0.70499988,  0.61496184,\n",
       "        -1.29424696],\n",
       "       [ 0.78287982,  0.53633586,  0.44328356,  0.85969983,  0.01032599,\n",
       "        -0.93575656],\n",
       "       [ 0.9217762 ,  0.93187122,  0.41487637,  0.59505727,  0.73562569,\n",
       "        -2.15576776],\n",
       "       [ 0.12667892,  0.2914703 ,  0.06452848,  0.6805146 ,  0.89281919,\n",
       "        -1.74688209]])"
      ]
     },
     "execution_count": 56,
     "metadata": {},
     "output_type": "execute_result"
    }
   ],
   "source": [
    "f6_X = np.load('initial_data/function_6/initial_inputs.npy')\n",
    "f6_Y = np.load('initial_data/function_6/initial_outputs.npy')\n",
    "result = np.column_stack((f6_X, f6_Y))\n",
    "result\n",
    "#0.7281861 ,  0.15469257,  0.73255167,  0.69399651,  0.05640131,-0.71426495\n",
    "#0.710000-0.160000-0.750000-0.670000-0.090000"
   ]
  },
  {
   "cell_type": "code",
   "execution_count": 58,
   "id": "d5266626",
   "metadata": {},
   "outputs": [],
   "source": [
    "#Week 1\n",
    "f6_X = np.vstack((f6_X, np.array([0.71,0.16,0.75,0.67,0.09])))\n",
    "f6_Y = np.append(f6_Y, -0.703723755592536)\n",
    "#Week 2\n",
    "f6_X = np.vstack((f6_X, np.array([0.237921,0.191643,0.308479,0.169956,0.1230565])))\n",
    "f6_Y = np.append(f6_Y, -1.35038509342459)\n",
    "#Week 3\n",
    "f6_X = np.vstack((f6_X, np.array([0.291906,0.224345,0.332472,0.174037,0.1414308])))\n",
    "f6_Y = np.append(f6_Y, -1.25771372725334)\n",
    "#Week 4\n",
    "f6_X = np.vstack((f6_X, np.array([0.087971,0.967504,0.160638,0.054875,0.927092])))\n",
    "f6_Y = np.append(f6_Y, -2.979991547)"
   ]
  },
  {
   "cell_type": "code",
   "execution_count": 59,
   "id": "23b4e4d6",
   "metadata": {},
   "outputs": [
    {
     "name": "stdout",
     "output_type": "stream",
     "text": [
      "0.087971-0.967504--0.160638-0.054875-0.927092\n"
     ]
    },
    {
     "name": "stderr",
     "output_type": "stream",
     "text": [
      "/home/mathiascanales/.local/lib/python3.9/site-packages/scipy/optimize/_minimize.py:580: RuntimeWarning: Method BFGS cannot handle bounds.\n",
      "  warn('Method %s cannot handle bounds.' % method,\n"
     ]
    }
   ],
   "source": [
    "# Define the surrogate function using a Gaussian Process\n",
    "def surrogate_function(x, gp):\n",
    "    mu, _ = gp.predict(np.array([x]), return_std=True)\n",
    "    return -mu[0]\n",
    "\n",
    "x_bounds = [(0, 1), (0, 1), (0, 1), (0,1), (0,1)]\n",
    "\n",
    "kernel = Matern(length_scale=1.0, length_scale_bounds=(1e-2, 1e2))\n",
    "gp = GaussianProcessRegressor(kernel=kernel, n_restarts_optimizer=20)\n",
    "\n",
    "gp.fit(f6_X, f6_Y)\n",
    "result = minimize(lambda x: -surrogate_function(x, gp), x0=(0.0,0.0,0.0,0.0,0.0), bounds=x_bounds, method='BFGS')\n",
    "\n",
    "formatted_x = '-'.join([f'{x:.6f}' for x in result.x])\n",
    "print(formatted_x)"
   ]
  },
  {
   "cell_type": "code",
   "execution_count": 39,
   "id": "637fe744",
   "metadata": {},
   "outputs": [
    {
     "name": "stdout",
     "output_type": "stream",
     "text": [
      "Best parameters found:  OrderedDict([('fit_intercept', True), ('n_jobs', 14)])\n",
      "Best score found:  0.27121678604740984\n"
     ]
    }
   ],
   "source": [
    "regressor = LinearRegression()\n",
    "\n",
    "# Define the search space for Bayesian optimization\n",
    "param_space = {\n",
    "    'fit_intercept': [True, False],\n",
    "    'n_jobs': [1, 20],  \n",
    "}\n",
    "\n",
    "# Perform Bayesian optimization\n",
    "opt = BayesSearchCV(\n",
    "    regressor,\n",
    "    param_space,\n",
    "    n_iter=10,  # Number of optimization iterations\n",
    "    cv=5,  # Cross-validation folds\n",
    "    n_jobs=-1,\n",
    "    random_state=0,\n",
    "    n_points=5,  # Initial points to sample\n",
    ")\n",
    "\n",
    "opt.fit(f6_X, f6_Y)\n",
    "\n",
    "# Print the best hyperparameters and model performance\n",
    "print(\"Best parameters found: \", opt.best_params_)\n",
    "print(\"Best score found: \", opt.best_score_)"
   ]
  },
  {
   "cell_type": "code",
   "execution_count": 40,
   "id": "4f172c31",
   "metadata": {},
   "outputs": [
    {
     "name": "stdout",
     "output_type": "stream",
     "text": [
      "Predicted x for y ≈ 0: -2.919064--2.243456-3.324729-1.740374--1.414308\n"
     ]
    }
   ],
   "source": [
    "# Create a Linear Regression model\n",
    "model = LinearRegression(fit_intercept = True, n_jobs =14)\n",
    "\n",
    "# Train the model\n",
    "model.fit(f6_X, f6_Y)\n",
    "\n",
    "# Predict values of x for y ≈ 0\n",
    "target_y = 0\n",
    "predicted_x = (target_y - model.intercept_) / model.coef_\n",
    "\n",
    "formatted_x = '-'.join([f'{x:.6f}' for x in predicted_x])\n",
    "\n",
    "print(f\"Predicted x for y ≈ 0: {formatted_x}\")"
   ]
  },
  {
   "cell_type": "code",
   "execution_count": 60,
   "id": "50163df8",
   "metadata": {
    "scrolled": true
   },
   "outputs": [
    {
     "data": {
      "text/plain": [
       "array([[0.27262382, 0.32449536, 0.89710881, 0.83295115, 0.15406269,\n",
       "        0.79586362, 0.6044327 ],\n",
       "       [0.54300258, 0.9246939 , 0.34156746, 0.64648585, 0.71844033,\n",
       "        0.34313266, 0.56275307],\n",
       "       [0.09083225, 0.66152938, 0.06593091, 0.25857701, 0.96345285,\n",
       "        0.6402654 , 0.00750324],\n",
       "       [0.11886697, 0.61505494, 0.90581639, 0.8553003 , 0.41363143,\n",
       "        0.58523563, 0.0614243 ],\n",
       "       [0.63021764, 0.8380969 , 0.68001305, 0.73189509, 0.52673671,\n",
       "        0.34842921, 0.2730468 ],\n",
       "       [0.76491917, 0.25588292, 0.60908422, 0.21807904, 0.32294277,\n",
       "        0.09579366, 0.08374657],\n",
       "       [0.05789554, 0.49167222, 0.24742222, 0.21811844, 0.42042833,\n",
       "        0.73096984, 1.3649683 ],\n",
       "       [0.19525188, 0.07922665, 0.55458046, 0.17056682, 0.01494418,\n",
       "        0.10703171, 0.09264495],\n",
       "       [0.64230298, 0.83687455, 0.02179269, 0.10148801, 0.68307083,\n",
       "        0.6924164 , 0.0178696 ],\n",
       "       [0.78994255, 0.19554501, 0.57562333, 0.07365919, 0.25904917,\n",
       "        0.05109986, 0.03356494],\n",
       "       [0.52849733, 0.45742436, 0.36009569, 0.36204551, 0.81689098,\n",
       "        0.63747637, 0.0735163 ],\n",
       "       [0.72261522, 0.01181284, 0.06364591, 0.16517311, 0.07924415,\n",
       "        0.35995166, 0.2063097 ],\n",
       "       [0.07566492, 0.33450212, 0.13273274, 0.60831236, 0.91838592,\n",
       "        0.82233079, 0.00882563],\n",
       "       [0.94245084, 0.37743962, 0.48612233, 0.22879108, 0.08263175,\n",
       "        0.71195755, 0.26840032],\n",
       "       [0.14864702, 0.03394336, 0.72880565, 0.31606646, 0.02176938,\n",
       "        0.51691776, 0.61152553],\n",
       "       [0.81711239, 0.54816823, 0.10334758, 0.12436955, 0.72823482,\n",
       "        0.44967361, 0.01479818],\n",
       "       [0.41762629, 0.06409998, 0.24566877, 0.5590408 , 0.19153138,\n",
       "        0.25464092, 0.27489251],\n",
       "       [0.72628566, 0.46489581, 0.92457051, 0.8072454 , 0.6354384 ,\n",
       "        0.14341787, 0.06676325],\n",
       "       [0.31981043, 0.52009759, 0.29067775, 0.87670668, 0.49503469,\n",
       "        0.6190825 , 0.04211835],\n",
       "       [0.87987128, 0.39796199, 0.00363456, 0.95699064, 0.26451373,\n",
       "        0.11486924, 0.00270147],\n",
       "       [0.54124078, 0.63140314, 0.03190205, 0.44998156, 0.79865282,\n",
       "        0.63370429, 0.01820907],\n",
       "       [0.22634792, 0.11502581, 0.82474966, 0.94538372, 0.90531153,\n",
       "        0.95101392, 0.00701603],\n",
       "       [0.68685257, 0.04101721, 0.00757301, 0.285009  , 0.69156848,\n",
       "        0.6555429 , 0.10050661],\n",
       "       [0.17597754, 0.6244165 , 0.29554198, 0.46955276, 0.09776977,\n",
       "        0.72814108, 0.47539552],\n",
       "       [0.88164674, 0.20445019, 0.41447436, 0.42038468, 0.26491501,\n",
       "        0.73066019, 0.67514163],\n",
       "       [0.06661051, 0.52804507, 0.8160952 , 0.96101714, 0.08650933,\n",
       "        0.77778822, 0.51645722],\n",
       "       [0.93246638, 0.48881189, 0.25860774, 0.95624344, 0.19042781,\n",
       "        0.51985176, 0.00377748],\n",
       "       [0.84686697, 0.14242917, 0.06066859, 0.75629213, 0.5523983 ,\n",
       "        0.08130609, 0.00313433],\n",
       "       [0.80628208, 0.32412237, 0.72607601, 0.14871213, 0.7193764 ,\n",
       "        0.36288398, 0.02134252],\n",
       "       [0.47682313, 0.34094195, 0.01433523, 0.88013956, 0.9986547 ,\n",
       "        0.07966402, 0.09541116]])"
      ]
     },
     "execution_count": 60,
     "metadata": {},
     "output_type": "execute_result"
    }
   ],
   "source": [
    "f7_X = np.load('initial_data/function_7/initial_inputs.npy')\n",
    "f7_Y = np.load('initial_data/function_7/initial_outputs.npy')\n",
    "result = np.column_stack((f7_X, f7_Y))\n",
    "result\n",
    "#0.27262382, 0.32449536, 0.89710881, 0.83295115, 0.15406269,0.79586362, 0.6044327 \n",
    "#0.250000-0.330000-0.850000-0.830000-0.200000-0.750000"
   ]
  },
  {
   "cell_type": "code",
   "execution_count": 61,
   "id": "09b8389b",
   "metadata": {},
   "outputs": [],
   "source": [
    "#Week 1\n",
    "f7_X = np.vstack((f7_X, np.array([0.25,0.33,0.85,0.83,0.2,0.75])))\n",
    "f7_Y = np.append(f7_Y, 0.50227388554458)\n",
    "#Week 2\n",
    "f7_X = np.vstack((f7_X, np.array([0.057896,0.924694,0.924571,0.073659,0.014944,0.951014])))\n",
    "f7_Y = np.append(f7_Y, 0.0850275940993777)\n",
    "#Week 3\n",
    "f7_X = np.vstack((f7_X, np.array([0.067896,0.824694,0.724571,0.063659,0.034944,0.851014])))\n",
    "f7_Y = np.append(f7_Y, 0.218179252964693)\n",
    "#Week 4\n",
    "f7_X = np.vstack((f7_X, np.array([0.822203,0.905431,0.608675,0.131364,0.711093,0.392675])))\n",
    "f7_Y = np.append(f7_Y, 0.008208888021)"
   ]
  },
  {
   "cell_type": "code",
   "execution_count": 62,
   "id": "3c0fba40",
   "metadata": {},
   "outputs": [
    {
     "name": "stdout",
     "output_type": "stream",
     "text": [
      "0.822203-1.054314-0.608675--0.131364--0.711093-0.392675\n"
     ]
    },
    {
     "name": "stderr",
     "output_type": "stream",
     "text": [
      "/home/mathiascanales/.local/lib/python3.9/site-packages/scipy/optimize/_minimize.py:580: RuntimeWarning: Method BFGS cannot handle bounds.\n",
      "  warn('Method %s cannot handle bounds.' % method,\n"
     ]
    }
   ],
   "source": [
    "# Define the surrogate function using a Gaussian Process\n",
    "def surrogate_function(x, gp):\n",
    "    mu, _ = gp.predict(np.array([x]), return_std=True)\n",
    "    return -mu[0]\n",
    "\n",
    "x_bounds = [(0, 1), (0, 1), (0, 1), (0,1), (0,1), (0,1)]\n",
    "\n",
    "kernel = Matern(length_scale=1.0, length_scale_bounds=(1e-2, 1e2))\n",
    "gp = GaussianProcessRegressor(kernel=kernel, n_restarts_optimizer=20)\n",
    "\n",
    "gp.fit(f7_X, f7_Y)\n",
    "result = minimize(lambda x: -surrogate_function(x, gp), x0=(0.0,0.0,0.0,0.0,0.0, 0.0), bounds=x_bounds, method='BFGS')\n",
    "\n",
    "formatted_x = '-'.join([f'{x:.6f}' for x in result.x])\n",
    "print(formatted_x)"
   ]
  },
  {
   "cell_type": "code",
   "execution_count": 43,
   "id": "be048377",
   "metadata": {},
   "outputs": [
    {
     "name": "stdout",
     "output_type": "stream",
     "text": [
      "Predicted x for y ≈ 0: 0.057896-0.924694-0.924571-0.073659-0.014944-0.951014\n"
     ]
    }
   ],
   "source": [
    "# Perform linear regression for each feature\n",
    "n_features = f7_X.shape[1]\n",
    "slopes = []\n",
    "intercepts = []\n",
    "\n",
    "for feature_index in range(n_features):\n",
    "    slope, intercept, _, _, _ = linregress(f7_X[:, feature_index], f7_Y)\n",
    "    slopes.append(slope)\n",
    "    intercepts.append(intercept)\n",
    "\n",
    "# Calculate maximum y within the x range\n",
    "x_maximizing_y = []\n",
    "\n",
    "for feature_index in range(n_features):\n",
    "    x_min = min(f7_X[:, feature_index])\n",
    "    x_max = max(f7_X[:, feature_index])\n",
    "    y_max = max(intercepts[feature_index] + slopes[feature_index] * x_min, intercepts[feature_index] + slopes[feature_index] * x_max)\n",
    "    \n",
    "    # Calculate corresponding x for the maximum y\n",
    "    x_maximizing_y.append((y_max - intercepts[feature_index]) / slopes[feature_index])\n",
    "\n",
    "formatted_x = '-'.join([f'{x:.6f}' for x in x_maximizing_y])\n",
    "print(f\"Predicted x for y ≈ 0: {formatted_x}\")"
   ]
  },
  {
   "cell_type": "code",
   "execution_count": 63,
   "id": "fbfba371",
   "metadata": {},
   "outputs": [
    {
     "data": {
      "text/plain": [
       "array([[6.04994453e-01, 2.92215020e-01, 9.08452748e-01, 3.55506242e-01,\n",
       "        2.01668719e-01, 5.75338005e-01, 3.10310951e-01, 7.34281377e-01,\n",
       "        7.39872110e+00],\n",
       "       [1.78006959e-01, 5.66222654e-01, 9.94861845e-01, 2.10325006e-01,\n",
       "        3.20152657e-01, 7.07908792e-01, 6.35384489e-01, 1.07131627e-01,\n",
       "        7.00522736e+00],\n",
       "       [9.07697668e-03, 8.11626153e-01, 5.20520360e-01, 7.56866752e-02,\n",
       "        2.65111825e-01, 9.16516894e-02, 5.92415145e-01, 3.67320262e-01,\n",
       "        8.45948162e+00],\n",
       "       [5.06028164e-01, 6.53730123e-01, 3.63410779e-01, 1.77981049e-01,\n",
       "        9.37283044e-02, 1.97425331e-01, 7.55826900e-01, 2.92472339e-01,\n",
       "        8.28400781e+00],\n",
       "       [3.59909264e-01, 2.49075679e-01, 4.95997170e-01, 7.09214981e-01,\n",
       "        1.14987195e-01, 2.89206921e-01, 5.57295151e-01, 5.93881726e-01,\n",
       "        8.60611679e+00],\n",
       "       [7.78818344e-01, 3.41949948e-03, 3.37983130e-01, 5.19527778e-01,\n",
       "        8.20906993e-01, 5.37246689e-01, 5.51347098e-01, 6.60032086e-01,\n",
       "        8.54174792e+00],\n",
       "       [9.08649322e-01, 6.22496998e-02, 2.38259546e-01, 7.66603545e-01,\n",
       "        1.32335962e-01, 9.90243814e-01, 6.88067822e-01, 7.42495941e-01,\n",
       "        7.32743458e+00],\n",
       "       [5.86371444e-01, 8.80735726e-01, 7.45020752e-01, 5.46034849e-01,\n",
       "        9.64887799e-03, 7.48991763e-01, 2.30907070e-01, 9.79156228e-02,\n",
       "        7.29987205e+00],\n",
       "       [7.61137326e-01, 8.54672390e-01, 3.82124331e-01, 3.37351983e-01,\n",
       "        6.89708320e-01, 3.09853052e-01, 6.31379683e-01, 4.19560695e-02,\n",
       "        7.95787474e+00],\n",
       "       [9.84933202e-01, 6.99506258e-01, 9.98885497e-01, 1.80148456e-01,\n",
       "        5.80143147e-01, 2.31087191e-01, 4.90826936e-01, 3.13682720e-01,\n",
       "        5.59219339e+00],\n",
       "       [1.12071314e-01, 4.37735663e-01, 5.96598785e-01, 5.92775633e-01,\n",
       "        2.26981770e-01, 4.10104519e-01, 9.21237577e-01, 6.74752759e-01,\n",
       "        7.85454099e+00],\n",
       "       [7.91887508e-01, 5.76191336e-01, 6.94528359e-01, 2.83423782e-01,\n",
       "        1.36755461e-01, 2.79161861e-01, 8.42767264e-01, 6.25327922e-01,\n",
       "        6.79198578e+00],\n",
       "       [1.43550296e-01, 9.37414515e-01, 2.32324818e-01, 9.04348540e-03,\n",
       "        4.14578930e-01, 4.09325169e-01, 5.53778522e-01, 2.05840800e-01,\n",
       "        8.97655402e+00],\n",
       "       [7.69916548e-01, 4.58759088e-01, 5.59000445e-01, 6.94604441e-01,\n",
       "        5.03199022e-01, 7.28346383e-01, 7.84253534e-01, 6.63131087e-01,\n",
       "        7.37908290e+00],\n",
       "       [5.64474111e-02, 6.59555534e-02, 2.29286780e-02, 3.87864724e-02,\n",
       "        4.03935441e-01, 8.01055329e-01, 4.88307007e-01, 8.93084977e-01,\n",
       "        9.59848200e+00],\n",
       "       [8.62437445e-01, 4.82733822e-01, 2.81869398e-01, 5.44102227e-01,\n",
       "        8.87490260e-01, 3.82654693e-01, 6.01901993e-01, 4.76461690e-01,\n",
       "        8.15998319e+00],\n",
       "       [3.51511904e-01, 5.90064942e-01, 9.09436304e-01, 6.78408354e-01,\n",
       "        2.12825656e-01, 8.84603803e-02, 4.10152995e-01, 1.95724292e-01,\n",
       "        7.13162397e+00],\n",
       "       [7.35903638e-01, 3.46118895e-02, 7.28030269e-01, 1.47426522e-01,\n",
       "        2.95743139e-01, 4.45117308e-01, 9.75179686e-01, 3.74339784e-01,\n",
       "        6.76796253e+00],\n",
       "       [6.80293974e-01, 2.55104646e-01, 8.62187985e-01, 1.34395821e-01,\n",
       "        3.26329200e-01, 2.87906871e-01, 4.35010484e-01, 3.64200126e-01,\n",
       "        7.43374407e+00],\n",
       "       [4.43292532e-02, 1.35814872e-02, 2.58198240e-01, 5.77644163e-01,\n",
       "        5.12799230e-02, 1.58563071e-01, 5.91030124e-01, 7.79529335e-02,\n",
       "        9.01307515e+00],\n",
       "       [7.78345480e-01, 7.51145652e-01, 3.14142208e-01, 9.02985775e-01,\n",
       "        3.35381656e-01, 3.86322669e-01, 7.48972486e-01, 9.88755104e-01,\n",
       "        7.31089382e+00],\n",
       "       [8.98887111e-01, 5.23641705e-01, 8.76783255e-01, 2.18696449e-01,\n",
       "        9.00260894e-01, 2.82766245e-01, 9.11077910e-01, 4.72398218e-01,\n",
       "        5.84106731e+00],\n",
       "       [1.45120286e-01, 1.19327540e-01, 4.20888224e-01, 3.87608607e-01,\n",
       "        1.55422833e-01, 8.75171626e-01, 5.10559672e-01, 7.28610579e-01,\n",
       "        9.14163949e+00],\n",
       "       [3.38954419e-01, 5.66932018e-01, 3.76751098e-01, 9.89157290e-02,\n",
       "        6.59451687e-01, 2.45548090e-01, 7.62482784e-01, 7.32153467e-01,\n",
       "        8.81755844e+00],\n",
       "       [1.76150018e-01, 2.93961428e-01, 9.75679966e-01, 7.93936306e-01,\n",
       "        9.23400762e-01, 3.08422938e-02, 8.03254524e-01, 5.95897583e-01,\n",
       "        6.45194313e+00],\n",
       "       [2.89466302e-02, 2.82790578e-02, 4.81371555e-01, 6.13174600e-01,\n",
       "        6.72660448e-01, 2.21134069e-02, 6.01483302e-01, 5.24885053e-01,\n",
       "        8.83074505e+00],\n",
       "       [1.92639868e-01, 6.30677279e-01, 4.16795837e-01, 4.90529289e-01,\n",
       "        7.96086023e-01, 6.54567065e-01, 2.76241193e-01, 2.95517586e-01,\n",
       "        9.34427428e+00],\n",
       "       [9.43185017e-01, 2.18850618e-01, 7.21184081e-01, 4.24597072e-01,\n",
       "        9.86902000e-01, 5.35182984e-01, 7.14743177e-01, 9.60093720e-01,\n",
       "        6.88784639e+00],\n",
       "       [5.32721401e-01, 8.33692597e-01, 7.13990037e-02, 1.16811483e-01,\n",
       "        7.30693110e-01, 9.37375591e-01, 8.66507981e-01, 1.27901999e-01,\n",
       "        8.04221254e+00],\n",
       "       [4.47095841e-01, 8.43952527e-01, 7.29546115e-01, 6.39151378e-01,\n",
       "        4.09287137e-01, 1.32645694e-01, 3.59088762e-02, 4.46838470e-01,\n",
       "        7.69236805e+00],\n",
       "       [3.82224965e-01, 5.57135837e-01, 8.53101634e-01, 3.33795692e-01,\n",
       "        2.65721272e-01, 4.80872916e-01, 2.37647062e-01, 7.68631956e-01,\n",
       "        7.92375877e+00],\n",
       "       [5.32819530e-01, 8.62308484e-01, 5.38267119e-01, 4.94429349e-02,\n",
       "        7.19701189e-01, 9.06705899e-01, 1.08230943e-01, 5.25347913e-01,\n",
       "        8.42175924e+00],\n",
       "       [3.94865187e-01, 3.31801666e-01, 7.40754301e-01, 6.97861725e-01,\n",
       "        7.37404439e-01, 7.83776810e-01, 2.54495461e-01, 8.71145510e-01,\n",
       "        8.27806240e+00],\n",
       "       [9.85945390e-01, 8.73053629e-01, 7.03926194e-02, 5.35872927e-02,\n",
       "        7.34152958e-01, 5.20258522e-01, 8.11040045e-01, 1.03360365e-01,\n",
       "        7.11345716e+00],\n",
       "       [9.64573386e-01, 9.73979787e-01, 6.63753351e-01, 6.62215992e-01,\n",
       "        6.73121672e-01, 9.05237624e-01, 4.58874624e-01, 5.60917502e-01,\n",
       "        6.40258841e+00],\n",
       "       [4.72070709e-01, 1.68202645e-01, 8.64275662e-02, 4.52655513e-01,\n",
       "        4.80619220e-01, 6.22439489e-01, 9.28974462e-01, 1.12536267e-01,\n",
       "        8.47293632e+00],\n",
       "       [8.56006953e-01, 6.38893704e-01, 3.26192022e-01, 6.68503115e-01,\n",
       "        2.40298369e-01, 2.10298890e-01, 1.67546362e-01, 9.63589863e-01,\n",
       "        7.97768459e+00],\n",
       "       [8.10031736e-01, 6.35046041e-01, 2.69547579e-01, 8.69605338e-01,\n",
       "        6.61921590e-01, 2.52258727e-01, 7.65670033e-01, 8.90548667e-01,\n",
       "        7.46087219e+00],\n",
       "       [7.96252524e-01, 7.03653252e-03, 3.55697380e-01, 4.87566053e-01,\n",
       "        7.40519615e-01, 7.06650103e-01, 9.92914495e-01, 3.81734367e-01,\n",
       "        7.43659353e+00],\n",
       "       [4.81245331e-01, 1.02460721e-01, 2.19485939e-01, 6.77322369e-01,\n",
       "        2.47509187e-01, 2.44340858e-01, 1.63824527e-01, 7.15961640e-01,\n",
       "        9.18300525e+00]])"
      ]
     },
     "execution_count": 63,
     "metadata": {},
     "output_type": "execute_result"
    }
   ],
   "source": [
    "f8_X = np.load('initial_data/function_8/initial_inputs.npy')\n",
    "f8_Y = np.load('initial_data/function_8/initial_outputs.npy')\n",
    "result = np.column_stack((f8_X, f8_Y))\n",
    "result\n",
    "#4.43292532e-02, 1.35814872e-02, 2.58198240e-01, 5.77644163e-01,5.12799230e-02, 1.58563071e-01, 5.91030124e-01, 7.79529335e-02,9.01307515e+00\n",
    "#4.81245331e-01, 1.02460721e-01, 2.19485939e-01, 6.77322369e-01,2.47509187e-01, 2.44340858e-01, 1.63824527e-01, 7.15961640e-01,9.18300525e+00\n",
    "#0.200000-0.400000-0.2350000-0.625000-0.120000-0.210000-0.380000-0.350000"
   ]
  },
  {
   "cell_type": "code",
   "execution_count": 64,
   "id": "4ca5b4e8",
   "metadata": {},
   "outputs": [],
   "source": [
    "#Week 1\n",
    "f8_X = np.vstack((f8_X, np.array([0.2,0.4,0.235,0.625,0.12,0.21,0.38,0.35])))\n",
    "f8_Y = np.append(f8_Y, 9.27245)\n",
    "#Week 2\n",
    "f8_X = np.vstack((f8_X, np.array([0.009077,0.003419,0.022929,0.009043,0.009649,0.990244,0.035909,0.988755])))\n",
    "f8_Y = np.append(f8_Y, 9.286087265)\n",
    "#Week 3\n",
    "#Same input\n",
    "#Week 4\n",
    "f8_X = np.vstack((f8_X, np.array([0.092456,0.271979,0.044189,0.249986,0.53335,0.540113,0.19916,0.544261])))\n",
    "f8_Y = np.append(f8_Y, 9.915447257)"
   ]
  },
  {
   "cell_type": "code",
   "execution_count": 66,
   "id": "7f4acbcb",
   "metadata": {},
   "outputs": [
    {
     "name": "stdout",
     "output_type": "stream",
     "text": [
      "-0.601182--4.566766--0.173059--6.834764--9.830308--10.744623--6.171214--10.466004\n"
     ]
    },
    {
     "name": "stderr",
     "output_type": "stream",
     "text": [
      "/home/mathiascanales/.local/lib/python3.9/site-packages/scipy/optimize/_minimize.py:580: RuntimeWarning: Method BFGS cannot handle bounds.\n",
      "  warn('Method %s cannot handle bounds.' % method,\n"
     ]
    }
   ],
   "source": [
    "# Define the surrogate function using a Gaussian Process\n",
    "def surrogate_function(x, gp):\n",
    "    mu, _ = gp.predict(np.array([x]), return_std=True)\n",
    "    return -mu[0]\n",
    "\n",
    "x_bounds = [(0, 1), (0, 1), (0, 1), (0,1), (0,1), (0,1),(0,1), (0,1)]\n",
    "\n",
    "kernel = Matern(length_scale=1.0, length_scale_bounds=(1e-2, 1e2))\n",
    "gp = GaussianProcessRegressor(kernel=kernel, n_restarts_optimizer=20)\n",
    "\n",
    "gp.fit(f8_X, f8_Y)\n",
    "result = minimize(lambda x: -surrogate_function(x, gp), x0=(0.0,0.0,0.0,0.0,0.0, 0.0, 0.0,0.0), bounds=x_bounds, method='BFGS')\n",
    "\n",
    "formatted_x = '-'.join([f'{x:.6f}' for x in result.x])\n",
    "print(formatted_x)"
   ]
  },
  {
   "cell_type": "code",
   "execution_count": 46,
   "id": "fa542b24",
   "metadata": {},
   "outputs": [
    {
     "name": "stdout",
     "output_type": "stream",
     "text": [
      "Predicted x for y ≈ 0: 0.009077-0.003419-0.022929-0.009043-0.009649-0.990244-0.035909-0.988755\n"
     ]
    }
   ],
   "source": [
    "# Perform linear regression for each feature\n",
    "n_features = f8_X.shape[1]\n",
    "slopes = []\n",
    "intercepts = []\n",
    "\n",
    "for feature_index in range(n_features):\n",
    "    slope, intercept, _, _, _ = linregress(f8_X[:, feature_index], f8_Y)\n",
    "    slopes.append(slope)\n",
    "    intercepts.append(intercept)\n",
    "\n",
    "# Calculate maximum y within the x range\n",
    "x_maximizing_y = []\n",
    "\n",
    "for feature_index in range(n_features):\n",
    "    x_min = min(f8_X[:, feature_index])\n",
    "    x_max = max(f8_X[:, feature_index])\n",
    "    y_max = max(intercepts[feature_index] + slopes[feature_index] * x_min, intercepts[feature_index] + slopes[feature_index] * x_max)\n",
    "    \n",
    "    # Calculate corresponding x for the maximum y\n",
    "    x_maximizing_y.append((y_max - intercepts[feature_index]) / slopes[feature_index])\n",
    "\n",
    "formatted_x = '-'.join([f'{x:.6f}' for x in x_maximizing_y])\n",
    "print(f\"Predicted x for y ≈ 0: {formatted_x}\")"
   ]
  }
 ],
 "metadata": {
  "kernelspec": {
   "display_name": "Python 3 (ipykernel)",
   "language": "python",
   "name": "python3"
  },
  "language_info": {
   "codemirror_mode": {
    "name": "ipython",
    "version": 3
   },
   "file_extension": ".py",
   "mimetype": "text/x-python",
   "name": "python",
   "nbconvert_exporter": "python",
   "pygments_lexer": "ipython3",
   "version": "3.9.2"
  }
 },
 "nbformat": 4,
 "nbformat_minor": 5
}
